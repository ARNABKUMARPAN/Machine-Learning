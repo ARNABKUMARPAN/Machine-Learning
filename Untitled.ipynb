{
 "cells": [
  {
   "cell_type": "code",
   "execution_count": 1,
   "metadata": {},
   "outputs": [],
   "source": [
    "import cv2"
   ]
  },
  {
   "cell_type": "code",
   "execution_count": 2,
   "metadata": {},
   "outputs": [],
   "source": [
    "k=[[10,20],[30,40],[25,45]]"
   ]
  },
  {
   "cell_type": "code",
   "execution_count": null,
   "metadata": {},
   "outputs": [],
   "source": [
    "for i,j in enumerate (k):\n",
    "    ss=j[0]\n",
    "    es=j[1]\n",
    "    print(\"start sec\",ss)\n",
    "    print (\"end sec\", es)"
   ]
  },
  {
   "cell_type": "code",
   "execution_count": 3,
   "metadata": {},
   "outputs": [
    {
     "name": "stdout",
     "output_type": "stream",
     "text": [
      "start sec 10\n",
      "end sec 20\n",
      "break\n",
      "start sec 30\n",
      "end sec 40\n",
      "break\n",
      "start sec 25\n",
      "end sec 45\n",
      "break\n"
     ]
    }
   ],
   "source": [
    "filename='video.mp4'\n",
    "cap = cv2.VideoCapture(filename)\n",
    "length = int(cap.get(cv2.CAP_PROP_FRAME_COUNT))\n",
    "w1 = int(cap.get(3)) \n",
    "h1 = int(cap.get(4)) \n",
    "fps = cap.get(cv2.CAP_PROP_FPS)\n",
    "for i,j in enumerate (k):\n",
    "    ss=j[0]\n",
    "    es=j[1]\n",
    "    print(\"start sec\",ss)\n",
    "    print (\"end sec\", es)\n",
    "    fourcc = cv2.VideoWriter_fourcc(*'XVID')\n",
    "    ss = ss\n",
    "    es= es\n",
    "    start=int(ss)*1000\n",
    "    end= int(es)*1000\n",
    "    if start >= end:\n",
    "        raise Exception(\"start must be less than end\")\n",
    "    filename= \"clip\"+\"_\"+str(ss)+\"_\"+str(es)+\".mp4\"\n",
    "    vout = cv2.VideoWriter(filename,fourcc, fps, (w1,h1))\n",
    "    cap.set(cv2.CAP_PROP_POS_MSEC,start)\n",
    "    while cap.isOpened():\n",
    "        err,img = cap.read()\n",
    "        #print (\"err\",err)\n",
    "        vout.write(img)\n",
    "        if cap.get(cv2.CAP_PROP_POS_MSEC) >= end:\n",
    "            print (\"break\")\n",
    "            break\n",
    "        #cv2.imshow(\"mywindow\", img)\n",
    "        k = cv2.waitKey(10) & 0xff\n",
    "        if k==27:\n",
    "            break\n",
    "vout.release()\n",
    "cap.release()\n",
    "cv2.destroyAllWindows()"
   ]
  },
  {
   "cell_type": "code",
   "execution_count": null,
   "metadata": {},
   "outputs": [],
   "source": [
    "pwd"
   ]
  },
  {
   "cell_type": "code",
   "execution_count": null,
   "metadata": {},
   "outputs": [],
   "source": [
    "cap"
   ]
  },
  {
   "cell_type": "code",
   "execution_count": null,
   "metadata": {},
   "outputs": [],
   "source": []
  }
 ],
 "metadata": {
  "kernelspec": {
   "display_name": "Python 3",
   "language": "python",
   "name": "python3"
  },
  "language_info": {
   "codemirror_mode": {
    "name": "ipython",
    "version": 3
   },
   "file_extension": ".py",
   "mimetype": "text/x-python",
   "name": "python",
   "nbconvert_exporter": "python",
   "pygments_lexer": "ipython3",
   "version": "3.6.4"
  }
 },
 "nbformat": 4,
 "nbformat_minor": 2
}
